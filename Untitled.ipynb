{
 "cells": [
  {
   "cell_type": "markdown",
   "id": "cbb1e96c",
   "metadata": {},
   "source": [
    "# Mesure of Central Tendency\n",
    "\n",
    "## Mean"
   ]
  },
  {
   "cell_type": "code",
   "execution_count": 26,
   "id": "adc00319",
   "metadata": {},
   "outputs": [
    {
     "data": {
      "text/plain": [
       "array([65, 55, 89, 56, 35, 14, 56, 55, 87, 45, 92])"
      ]
     },
     "execution_count": 26,
     "metadata": {},
     "output_type": "execute_result"
    }
   ],
   "source": [
    "import numpy as np\n",
    "data = np.array([65, 55, 89, 56, 35, 14, 56, 55, 87,45,92])\n",
    "data"
   ]
  },
  {
   "cell_type": "markdown",
   "id": "64b4eb2f",
   "metadata": {},
   "source": [
    "## Mean"
   ]
  },
  {
   "cell_type": "code",
   "execution_count": 2,
   "id": "7514cc4e",
   "metadata": {},
   "outputs": [
    {
     "data": {
      "text/plain": [
       "59.0"
      ]
     },
     "execution_count": 2,
     "metadata": {},
     "output_type": "execute_result"
    }
   ],
   "source": [
    "np.mean(data)"
   ]
  },
  {
   "cell_type": "markdown",
   "id": "1e09c975",
   "metadata": {},
   "source": [
    "## Median\n"
   ]
  },
  {
   "cell_type": "code",
   "execution_count": 11,
   "id": "04773d76",
   "metadata": {},
   "outputs": [
    {
     "data": {
      "text/plain": [
       "0    56.0\n",
       "dtype: float64"
      ]
     },
     "execution_count": 11,
     "metadata": {},
     "output_type": "execute_result"
    }
   ],
   "source": [
    "import pandas as pd\n",
    "pd.DataFrame(data).median()\n"
   ]
  },
  {
   "cell_type": "markdown",
   "id": "812cf7bf",
   "metadata": {},
   "source": [
    "## Mode\n"
   ]
  },
  {
   "cell_type": "code",
   "execution_count": 35,
   "id": "25ddb0b3",
   "metadata": {},
   "outputs": [
    {
     "data": {
      "text/plain": [
       "55"
      ]
     },
     "execution_count": 35,
     "metadata": {},
     "output_type": "execute_result"
    }
   ],
   "source": [
    "values, counts = np.unique(data, return_counts=True)\n",
    "index = np.argmax(counts)\n",
    "values[index]\n"
   ]
  },
  {
   "cell_type": "code",
   "execution_count": 16,
   "id": "93279217",
   "metadata": {},
   "outputs": [
    {
     "data": {
      "text/html": [
       "<div>\n",
       "<style scoped>\n",
       "    .dataframe tbody tr th:only-of-type {\n",
       "        vertical-align: middle;\n",
       "    }\n",
       "\n",
       "    .dataframe tbody tr th {\n",
       "        vertical-align: top;\n",
       "    }\n",
       "\n",
       "    .dataframe thead th {\n",
       "        text-align: right;\n",
       "    }\n",
       "</style>\n",
       "<table border=\"1\" class=\"dataframe\">\n",
       "  <thead>\n",
       "    <tr style=\"text-align: right;\">\n",
       "      <th></th>\n",
       "      <th>0</th>\n",
       "    </tr>\n",
       "  </thead>\n",
       "  <tbody>\n",
       "    <tr>\n",
       "      <th>0</th>\n",
       "      <td>55</td>\n",
       "    </tr>\n",
       "    <tr>\n",
       "      <th>1</th>\n",
       "      <td>56</td>\n",
       "    </tr>\n",
       "  </tbody>\n",
       "</table>\n",
       "</div>"
      ],
      "text/plain": [
       "    0\n",
       "0  55\n",
       "1  56"
      ]
     },
     "execution_count": 16,
     "metadata": {},
     "output_type": "execute_result"
    }
   ],
   "source": [
    "pd.DataFrame(data).mode()"
   ]
  },
  {
   "cell_type": "markdown",
   "id": "fe91511a",
   "metadata": {},
   "source": [
    "# Variance"
   ]
  },
  {
   "cell_type": "code",
   "execution_count": 30,
   "id": "57e0605d",
   "metadata": {},
   "outputs": [
    {
     "data": {
      "text/plain": [
       "514.1818181818181"
      ]
     },
     "execution_count": 30,
     "metadata": {},
     "output_type": "execute_result"
    }
   ],
   "source": [
    "np.var(data)\n"
   ]
  },
  {
   "cell_type": "code",
   "execution_count": 28,
   "id": "19435f1d",
   "metadata": {},
   "outputs": [
    {
     "data": {
      "text/plain": [
       "0    565.6\n",
       "dtype: float64"
      ]
     },
     "execution_count": 28,
     "metadata": {},
     "output_type": "execute_result"
    }
   ],
   "source": [
    "pd.DataFrame(data).var()"
   ]
  },
  {
   "cell_type": "markdown",
   "id": "d97f08b0",
   "metadata": {},
   "source": [
    "# Standard deviation\n"
   ]
  },
  {
   "cell_type": "code",
   "execution_count": 31,
   "id": "a937246b",
   "metadata": {},
   "outputs": [
    {
     "data": {
      "text/plain": [
       "22.675577571074527"
      ]
     },
     "execution_count": 31,
     "metadata": {},
     "output_type": "execute_result"
    }
   ],
   "source": [
    "np.std(data)"
   ]
  },
  {
   "cell_type": "code",
   "execution_count": 32,
   "id": "be67d4b4",
   "metadata": {},
   "outputs": [
    {
     "data": {
      "text/plain": [
       "0    23.782346\n",
       "dtype: float64"
      ]
     },
     "execution_count": 32,
     "metadata": {},
     "output_type": "execute_result"
    }
   ],
   "source": [
    "pd.DataFrame(data).std()"
   ]
  },
  {
   "cell_type": "markdown",
   "id": "2e3fb34a",
   "metadata": {},
   "source": [
    "# Covariance"
   ]
  },
  {
   "cell_type": "code",
   "execution_count": 34,
   "id": "4c5c6f0b",
   "metadata": {},
   "outputs": [
    {
     "data": {
      "text/plain": [
       "array(565.6)"
      ]
     },
     "execution_count": 34,
     "metadata": {},
     "output_type": "execute_result"
    }
   ],
   "source": [
    "x = np.array([10,15,7,2,16])\n",
    "y = np.array([13,0,7,4,11])\n",
    "\n",
    "np.cov(data)"
   ]
  },
  {
   "cell_type": "code",
   "execution_count": null,
   "id": "c0dd6645",
   "metadata": {},
   "outputs": [],
   "source": []
  }
 ],
 "metadata": {
  "kernelspec": {
   "display_name": "datascienceenv",
   "language": "python",
   "name": "datascienceenv"
  },
  "language_info": {
   "codemirror_mode": {
    "name": "ipython",
    "version": 3
   },
   "file_extension": ".py",
   "mimetype": "text/x-python",
   "name": "python",
   "nbconvert_exporter": "python",
   "pygments_lexer": "ipython3",
   "version": "3.9.7"
  }
 },
 "nbformat": 4,
 "nbformat_minor": 5
}
