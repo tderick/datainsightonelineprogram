{
 "cells": [
  {
   "cell_type": "markdown",
   "id": "6bdd4ca6",
   "metadata": {},
   "source": [
    "# 1. Load and clean data\n",
    "## Read data from CSV file"
   ]
  },
  {
   "cell_type": "code",
   "execution_count": 18,
   "id": "d8be2832",
   "metadata": {},
   "outputs": [],
   "source": [
    "import pandas as pd\n",
    "\n",
    "data = pd.read_csv(\"AfricaInternetUsers.csv\")\n"
   ]
  },
  {
   "cell_type": "markdown",
   "id": "08ecefc6",
   "metadata": {},
   "source": [
    "## Remove the last 4 rows of dataframe"
   ]
  },
  {
   "cell_type": "code",
   "execution_count": 19,
   "id": "b42cd1ab",
   "metadata": {},
   "outputs": [
    {
     "data": {
      "text/html": [
       "<div>\n",
       "<style scoped>\n",
       "    .dataframe tbody tr th:only-of-type {\n",
       "        vertical-align: middle;\n",
       "    }\n",
       "\n",
       "    .dataframe tbody tr th {\n",
       "        vertical-align: top;\n",
       "    }\n",
       "\n",
       "    .dataframe thead th {\n",
       "        text-align: right;\n",
       "    }\n",
       "</style>\n",
       "<table border=\"1\" class=\"dataframe\">\n",
       "  <thead>\n",
       "    <tr style=\"text-align: right;\">\n",
       "      <th></th>\n",
       "      <th>AFRICA</th>\n",
       "      <th>Population\\n(2020 Est.)</th>\n",
       "      <th>Internet\\nUsers\\n31-Dec-2000</th>\n",
       "      <th>Internet\\nUsers\\n30-SEPT-20</th>\n",
       "      <th>Penetration\\n(% Population)</th>\n",
       "      <th>Internet\\nGrowth %\\n2000 - 2020</th>\n",
       "      <th>Facebook\\nsubscribers\\n30-SEPT-2020</th>\n",
       "    </tr>\n",
       "  </thead>\n",
       "  <tbody>\n",
       "    <tr>\n",
       "      <th>53</th>\n",
       "      <td>Tunisia</td>\n",
       "      <td>11,818,619</td>\n",
       "      <td>100,000</td>\n",
       "      <td>7,898,534</td>\n",
       "      <td>66.8%</td>\n",
       "      <td>7,798%</td>\n",
       "      <td>7,445,000</td>\n",
       "    </tr>\n",
       "    <tr>\n",
       "      <th>54</th>\n",
       "      <td>Uganda</td>\n",
       "      <td>45,741,007</td>\n",
       "      <td>40,000</td>\n",
       "      <td>18,502,166</td>\n",
       "      <td>40.4%</td>\n",
       "      <td>46,155%</td>\n",
       "      <td>2,471,000</td>\n",
       "    </tr>\n",
       "    <tr>\n",
       "      <th>55</th>\n",
       "      <td>Western Sahara</td>\n",
       "      <td>597,339</td>\n",
       "      <td>NaN</td>\n",
       "      <td>28,000</td>\n",
       "      <td>4.7%</td>\n",
       "      <td>NaN</td>\n",
       "      <td>27,000</td>\n",
       "    </tr>\n",
       "    <tr>\n",
       "      <th>56</th>\n",
       "      <td>Zambia</td>\n",
       "      <td>18,383,955</td>\n",
       "      <td>20,000</td>\n",
       "      <td>9,870,427</td>\n",
       "      <td>53.7%</td>\n",
       "      <td>49,252%</td>\n",
       "      <td>2,253,000</td>\n",
       "    </tr>\n",
       "    <tr>\n",
       "      <th>57</th>\n",
       "      <td>Zimbabwe</td>\n",
       "      <td>14,862,924</td>\n",
       "      <td>50,000</td>\n",
       "      <td>8,400,000</td>\n",
       "      <td>56.5%</td>\n",
       "      <td>16,700%</td>\n",
       "      <td>994,000</td>\n",
       "    </tr>\n",
       "  </tbody>\n",
       "</table>\n",
       "</div>"
      ],
      "text/plain": [
       "            AFRICA Population\\n(2020 Est.) Internet\\nUsers\\n31-Dec-2000  \\\n",
       "53         Tunisia              11,818,619                      100,000   \n",
       "54          Uganda              45,741,007                       40,000   \n",
       "55  Western Sahara                 597,339                          NaN   \n",
       "56          Zambia              18,383,955                       20,000   \n",
       "57        Zimbabwe              14,862,924                       50,000   \n",
       "\n",
       "   Internet\\nUsers\\n30-SEPT-20 Penetration\\n(% Population)  \\\n",
       "53                   7,898,534                       66.8%   \n",
       "54                  18,502,166                       40.4%   \n",
       "55                      28,000                        4.7%   \n",
       "56                   9,870,427                       53.7%   \n",
       "57                   8,400,000                       56.5%   \n",
       "\n",
       "   Internet\\nGrowth %\\n2000 - 2020 Facebook\\nsubscribers\\n30-SEPT-2020  \n",
       "53                          7,798%                           7,445,000  \n",
       "54                         46,155%                           2,471,000  \n",
       "55                             NaN                              27,000  \n",
       "56                         49,252%                           2,253,000  \n",
       "57                         16,700%                             994,000  "
      ]
     },
     "execution_count": 19,
     "metadata": {},
     "output_type": "execute_result"
    }
   ],
   "source": [
    "data = data[:-4]\n",
    "data.tail()"
   ]
  },
  {
   "cell_type": "markdown",
   "id": "e3b99eef",
   "metadata": {},
   "source": [
    "## Rename the columns in more readable form"
   ]
  },
  {
   "cell_type": "code",
   "execution_count": 20,
   "id": "84855e10",
   "metadata": {},
   "outputs": [
    {
     "data": {
      "text/html": [
       "<div>\n",
       "<style scoped>\n",
       "    .dataframe tbody tr th:only-of-type {\n",
       "        vertical-align: middle;\n",
       "    }\n",
       "\n",
       "    .dataframe tbody tr th {\n",
       "        vertical-align: top;\n",
       "    }\n",
       "\n",
       "    .dataframe thead th {\n",
       "        text-align: right;\n",
       "    }\n",
       "</style>\n",
       "<table border=\"1\" class=\"dataframe\">\n",
       "  <thead>\n",
       "    <tr style=\"text-align: right;\">\n",
       "      <th></th>\n",
       "      <th>AFRICA</th>\n",
       "      <th>Population_2020_Est</th>\n",
       "      <th>Internet_Users_31_Dec_2000</th>\n",
       "      <th>Internet_Users_30_SEPT_20</th>\n",
       "      <th>Penetration_Population</th>\n",
       "      <th>Internet_Growth_2000_2020</th>\n",
       "      <th>Facebook_subscribers_30_SEPT_2020</th>\n",
       "    </tr>\n",
       "  </thead>\n",
       "  <tbody>\n",
       "    <tr>\n",
       "      <th>0</th>\n",
       "      <td>Algeria</td>\n",
       "      <td>43,851,044</td>\n",
       "      <td>50,000</td>\n",
       "      <td>25,428,159</td>\n",
       "      <td>58.0%</td>\n",
       "      <td>50,756%</td>\n",
       "      <td>24,730,000</td>\n",
       "    </tr>\n",
       "    <tr>\n",
       "      <th>1</th>\n",
       "      <td>Angola</td>\n",
       "      <td>32,866,272</td>\n",
       "      <td>30,000</td>\n",
       "      <td>8,980,670</td>\n",
       "      <td>27.3%</td>\n",
       "      <td>29,835%</td>\n",
       "      <td>2,244,000</td>\n",
       "    </tr>\n",
       "  </tbody>\n",
       "</table>\n",
       "</div>"
      ],
      "text/plain": [
       "    AFRICA Population_2020_Est Internet_Users_31_Dec_2000  \\\n",
       "0  Algeria          43,851,044                     50,000   \n",
       "1   Angola          32,866,272                     30,000   \n",
       "\n",
       "  Internet_Users_30_SEPT_20 Penetration_Population Internet_Growth_2000_2020  \\\n",
       "0                25,428,159                  58.0%                   50,756%   \n",
       "1                 8,980,670                  27.3%                   29,835%   \n",
       "\n",
       "  Facebook_subscribers_30_SEPT_2020  \n",
       "0                        24,730,000  \n",
       "1                         2,244,000  "
      ]
     },
     "execution_count": 20,
     "metadata": {},
     "output_type": "execute_result"
    }
   ],
   "source": [
    "data = data.rename(columns={\"Population\\n(2020 Est.)\":\"Population_2020_Est\", \"Internet\\nUsers\\n31-Dec-2000\":\"Internet_Users_31_Dec_2000\",\"Internet\\nUsers\\n30-SEPT-20\":\"Internet_Users_30_SEPT_20\",\"Penetration\\n(% Population)\":\"Penetration_Population\",\"Penetration_Population \tInternet\\nGrowth %\\n2000 - 2020\":\"Penetration_Population\"})\n",
    "data = data.rename(columns={\"Internet\\nGrowth %\\n2000 - 2020\":\"Internet_Growth_2000_2020\",\"Facebook\\nsubscribers\\n30-SEPT-2020\":\"Facebook_subscribers_30_SEPT_2020\"})\n",
    "data.head(2)"
   ]
  },
  {
   "cell_type": "markdown",
   "id": "8c6af0e4",
   "metadata": {},
   "source": [
    "## Fill missing value with 0 and delete \"Internet_Growth_2000_2020\" columns"
   ]
  },
  {
   "cell_type": "code",
   "execution_count": 21,
   "id": "c9f74d6e",
   "metadata": {},
   "outputs": [],
   "source": [
    "data = data.fillna(0)\n",
    "data.drop('Internet_Growth_2000_2020', axis=1, inplace=True)\n"
   ]
  },
  {
   "cell_type": "code",
   "execution_count": 22,
   "id": "5fb26bc7",
   "metadata": {},
   "outputs": [
    {
     "name": "stdout",
     "output_type": "stream",
     "text": [
      "<class 'pandas.core.frame.DataFrame'>\n",
      "RangeIndex: 58 entries, 0 to 57\n",
      "Data columns (total 6 columns):\n",
      " #   Column                             Non-Null Count  Dtype \n",
      "---  ------                             --------------  ----- \n",
      " 0   AFRICA                             58 non-null     object\n",
      " 1   Population_2020_Est                58 non-null     object\n",
      " 2   Internet_Users_31_Dec_2000         58 non-null     object\n",
      " 3   Internet_Users_30_SEPT_20          58 non-null     object\n",
      " 4   Penetration_Population             58 non-null     object\n",
      " 5   Facebook_subscribers_30_SEPT_2020  58 non-null     object\n",
      "dtypes: object(6)\n",
      "memory usage: 2.8+ KB\n"
     ]
    }
   ],
   "source": [
    "data.info()"
   ]
  },
  {
   "cell_type": "markdown",
   "id": "230d4872",
   "metadata": {},
   "source": [
    "## Convert to different data to good pandas datatype\n"
   ]
  },
  {
   "cell_type": "code",
   "execution_count": 24,
   "id": "701729de",
   "metadata": {},
   "outputs": [
    {
     "name": "stdout",
     "output_type": "stream",
     "text": [
      "<class 'pandas.core.frame.DataFrame'>\n",
      "RangeIndex: 58 entries, 0 to 57\n",
      "Data columns (total 6 columns):\n",
      " #   Column                             Non-Null Count  Dtype  \n",
      "---  ------                             --------------  -----  \n",
      " 0   AFRICA                             58 non-null     object \n",
      " 1   Population_2020_Est                58 non-null     float64\n",
      " 2   Internet_Users_31_Dec_2000         58 non-null     float64\n",
      " 3   Internet_Users_30_SEPT_20          58 non-null     float64\n",
      " 4   Penetration_Population             58 non-null     float64\n",
      " 5   Facebook_subscribers_30_SEPT_2020  58 non-null     float64\n",
      "dtypes: float64(5), object(1)\n",
      "memory usage: 2.8+ KB\n"
     ]
    }
   ],
   "source": [
    "data['Penetration_Population']= data['Penetration_Population'].apply(lambda x: str(x).strip(\"%\")).astype(float)\n",
    "number_col = ['Population_2020_Est','Internet_Users_31_Dec_2000','Internet_Users_30_SEPT_20','Facebook_subscribers_30_SEPT_2020']\n",
    "for col in number_col:\n",
    "    data[col] = data[col].apply(lambda x: str(x).replace(\",\",\"\")).astype(float)\n",
    "\n",
    "data.info()"
   ]
  },
  {
   "cell_type": "markdown",
   "id": "063d8a1f",
   "metadata": {},
   "source": [
    "# 2. Apply method with pandas series\n",
    "\n",
    "## Passed a built-in function to apply method"
   ]
  },
  {
   "cell_type": "code",
   "execution_count": 109,
   "id": "c7cc9fff",
   "metadata": {},
   "outputs": [
    {
     "data": {
      "text/html": [
       "<div>\n",
       "<style scoped>\n",
       "    .dataframe tbody tr th:only-of-type {\n",
       "        vertical-align: middle;\n",
       "    }\n",
       "\n",
       "    .dataframe tbody tr th {\n",
       "        vertical-align: top;\n",
       "    }\n",
       "\n",
       "    .dataframe thead th {\n",
       "        text-align: right;\n",
       "    }\n",
       "</style>\n",
       "<table border=\"1\" class=\"dataframe\">\n",
       "  <thead>\n",
       "    <tr style=\"text-align: right;\">\n",
       "      <th></th>\n",
       "      <th>AFRICA</th>\n",
       "      <th>Population_2020_Est</th>\n",
       "      <th>Internet_Users_31_Dec_2000</th>\n",
       "      <th>Internet_Users_30_SEPT_20</th>\n",
       "      <th>Penetration_Population</th>\n",
       "      <th>Facebook_subscribers_30_SEPT_2020</th>\n",
       "      <th>countries_name_length</th>\n",
       "    </tr>\n",
       "  </thead>\n",
       "  <tbody>\n",
       "    <tr>\n",
       "      <th>0</th>\n",
       "      <td>Algeria</td>\n",
       "      <td>43851044.0</td>\n",
       "      <td>50000.0</td>\n",
       "      <td>25428159.0</td>\n",
       "      <td>58.0%</td>\n",
       "      <td>24730000.0</td>\n",
       "      <td>7</td>\n",
       "    </tr>\n",
       "    <tr>\n",
       "      <th>1</th>\n",
       "      <td>Angola</td>\n",
       "      <td>32866272.0</td>\n",
       "      <td>30000.0</td>\n",
       "      <td>8980670.0</td>\n",
       "      <td>27.3%</td>\n",
       "      <td>2244000.0</td>\n",
       "      <td>6</td>\n",
       "    </tr>\n",
       "    <tr>\n",
       "      <th>2</th>\n",
       "      <td>Benin</td>\n",
       "      <td>12123200.0</td>\n",
       "      <td>15000.0</td>\n",
       "      <td>3801758.0</td>\n",
       "      <td>31.4%</td>\n",
       "      <td>920000.0</td>\n",
       "      <td>5</td>\n",
       "    </tr>\n",
       "    <tr>\n",
       "      <th>3</th>\n",
       "      <td>Botswana</td>\n",
       "      <td>2351627.0</td>\n",
       "      <td>15000.0</td>\n",
       "      <td>1116079.0</td>\n",
       "      <td>47.5%</td>\n",
       "      <td>830000.0</td>\n",
       "      <td>8</td>\n",
       "    </tr>\n",
       "    <tr>\n",
       "      <th>4</th>\n",
       "      <td>Burkina Faso</td>\n",
       "      <td>20903273.0</td>\n",
       "      <td>10000.0</td>\n",
       "      <td>4594265.0</td>\n",
       "      <td>22.0%</td>\n",
       "      <td>840000.0</td>\n",
       "      <td>12</td>\n",
       "    </tr>\n",
       "  </tbody>\n",
       "</table>\n",
       "</div>"
      ],
      "text/plain": [
       "         AFRICA  Population_2020_Est  Internet_Users_31_Dec_2000  \\\n",
       "0       Algeria           43851044.0                     50000.0   \n",
       "1        Angola           32866272.0                     30000.0   \n",
       "2         Benin           12123200.0                     15000.0   \n",
       "3      Botswana            2351627.0                     15000.0   \n",
       "4  Burkina Faso           20903273.0                     10000.0   \n",
       "\n",
       "   Internet_Users_30_SEPT_20 Penetration_Population  \\\n",
       "0                 25428159.0                  58.0%   \n",
       "1                  8980670.0                  27.3%   \n",
       "2                  3801758.0                  31.4%   \n",
       "3                  1116079.0                  47.5%   \n",
       "4                  4594265.0                  22.0%   \n",
       "\n",
       "   Facebook_subscribers_30_SEPT_2020  countries_name_length  \n",
       "0                         24730000.0                      7  \n",
       "1                          2244000.0                      6  \n",
       "2                           920000.0                      5  \n",
       "3                           830000.0                      8  \n",
       "4                           840000.0                     12  "
      ]
     },
     "execution_count": 109,
     "metadata": {},
     "output_type": "execute_result"
    }
   ],
   "source": [
    "data['countries_name_length'] = data.AFRICA.apply(len)\n",
    "data.head()"
   ]
  },
  {
   "cell_type": "markdown",
   "id": "bf932e36",
   "metadata": {},
   "source": [
    "## Passe our custum function to apply method"
   ]
  },
  {
   "cell_type": "code",
   "execution_count": 119,
   "id": "a4c363e8",
   "metadata": {},
   "outputs": [
    {
     "data": {
      "text/plain": [
       "0         ALGERIA\n",
       "1          ANGOLA\n",
       "2           BENIN\n",
       "3        BOTSWANA\n",
       "4    BURKINA FASO\n",
       "Name: AFRICA, dtype: object"
      ]
     },
     "execution_count": 119,
     "metadata": {},
     "output_type": "execute_result"
    }
   ],
   "source": [
    "def upercase(string):\n",
    "    return string.upper()\n",
    "\n",
    "data.AFRICA.apply(upercase).head()\n"
   ]
  },
  {
   "cell_type": "markdown",
   "id": "e0dd23e2",
   "metadata": {},
   "source": [
    "## Use lambda function to apply method"
   ]
  },
  {
   "cell_type": "code",
   "execution_count": 105,
   "id": "dd7650fd",
   "metadata": {},
   "outputs": [
    {
     "data": {
      "text/html": [
       "<div>\n",
       "<style scoped>\n",
       "    .dataframe tbody tr th:only-of-type {\n",
       "        vertical-align: middle;\n",
       "    }\n",
       "\n",
       "    .dataframe tbody tr th {\n",
       "        vertical-align: top;\n",
       "    }\n",
       "\n",
       "    .dataframe thead th {\n",
       "        text-align: right;\n",
       "    }\n",
       "</style>\n",
       "<table border=\"1\" class=\"dataframe\">\n",
       "  <thead>\n",
       "    <tr style=\"text-align: right;\">\n",
       "      <th></th>\n",
       "      <th>AFRICA</th>\n",
       "      <th>Population_2020_Est</th>\n",
       "      <th>Internet_Users_31_Dec_2000</th>\n",
       "      <th>Internet_Users_30_SEPT_20</th>\n",
       "      <th>Penetration_Population</th>\n",
       "      <th>Facebook_subscribers_30_SEPT_2020</th>\n",
       "    </tr>\n",
       "  </thead>\n",
       "  <tbody>\n",
       "    <tr>\n",
       "      <th>0</th>\n",
       "      <td>Algeria</td>\n",
       "      <td>43,851,044</td>\n",
       "      <td>50,000</td>\n",
       "      <td>25,428,159</td>\n",
       "      <td>58.0%</td>\n",
       "      <td>24,730,000</td>\n",
       "    </tr>\n",
       "    <tr>\n",
       "      <th>1</th>\n",
       "      <td>Angola</td>\n",
       "      <td>32,866,272</td>\n",
       "      <td>30,000</td>\n",
       "      <td>8,980,670</td>\n",
       "      <td>27.3%</td>\n",
       "      <td>2,244,000</td>\n",
       "    </tr>\n",
       "    <tr>\n",
       "      <th>2</th>\n",
       "      <td>Benin</td>\n",
       "      <td>12,123,200</td>\n",
       "      <td>15,000</td>\n",
       "      <td>3,801,758</td>\n",
       "      <td>31.4%</td>\n",
       "      <td>920,000</td>\n",
       "    </tr>\n",
       "    <tr>\n",
       "      <th>3</th>\n",
       "      <td>Botswana</td>\n",
       "      <td>2,351,627</td>\n",
       "      <td>15,000</td>\n",
       "      <td>1,116,079</td>\n",
       "      <td>47.5%</td>\n",
       "      <td>830,000</td>\n",
       "    </tr>\n",
       "    <tr>\n",
       "      <th>4</th>\n",
       "      <td>Burkina Faso</td>\n",
       "      <td>20,903,273</td>\n",
       "      <td>10,000</td>\n",
       "      <td>4,594,265</td>\n",
       "      <td>22.0%</td>\n",
       "      <td>840,000</td>\n",
       "    </tr>\n",
       "  </tbody>\n",
       "</table>\n",
       "</div>"
      ],
      "text/plain": [
       "         AFRICA Population_2020_Est Internet_Users_31_Dec_2000  \\\n",
       "0       Algeria          43,851,044                     50,000   \n",
       "1        Angola          32,866,272                     30,000   \n",
       "2         Benin          12,123,200                     15,000   \n",
       "3      Botswana           2,351,627                     15,000   \n",
       "4  Burkina Faso          20,903,273                     10,000   \n",
       "\n",
       "  Internet_Users_30_SEPT_20 Penetration_Population  \\\n",
       "0                25,428,159                  58.0%   \n",
       "1                 8,980,670                  27.3%   \n",
       "2                 3,801,758                  31.4%   \n",
       "3                 1,116,079                  47.5%   \n",
       "4                 4,594,265                  22.0%   \n",
       "\n",
       "  Facebook_subscribers_30_SEPT_2020  \n",
       "0                        24,730,000  \n",
       "1                         2,244,000  \n",
       "2                           920,000  \n",
       "3                           830,000  \n",
       "4                           840,000  "
      ]
     },
     "execution_count": 105,
     "metadata": {},
     "output_type": "execute_result"
    }
   ],
   "source": [
    "data.AFRICA.apply(lambda x: x.upper())\n",
    "data.head()\n"
   ]
  },
  {
   "cell_type": "markdown",
   "id": "b98d5064",
   "metadata": {},
   "source": [
    "\n",
    "## Remove % sign behind Penetration_Population values and convert it to float"
   ]
  },
  {
   "cell_type": "code",
   "execution_count": 120,
   "id": "604f25ff",
   "metadata": {},
   "outputs": [
    {
     "data": {
      "text/plain": [
       "0    58.0\n",
       "1    27.3\n",
       "2    31.4\n",
       "3    47.5\n",
       "4    22.0\n",
       "Name: Penetration_Population, dtype: float64"
      ]
     },
     "execution_count": 120,
     "metadata": {},
     "output_type": "execute_result"
    }
   ],
   "source": [
    "\n",
    "data['Penetration_Population']= data['Penetration_Population'].apply(lambda x: str(x).strip(\"%\")).astype(float)\n",
    "data['Penetration_Population'].head()"
   ]
  },
  {
   "cell_type": "markdown",
   "id": "c4cb4c6f",
   "metadata": {},
   "source": [
    "##  Use aggregation function into apply method"
   ]
  },
  {
   "cell_type": "code",
   "execution_count": 121,
   "id": "0044efd4",
   "metadata": {},
   "outputs": [
    {
     "name": "stdout",
     "output_type": "stream",
     "text": [
      "The mean is:    36.165517\n",
      "Median is:      31.650000\n",
      "Name: Penetration_Population, dtype: float64\n",
      "std         21.742969\n",
      "min          4.700000\n",
      "max         87.200000\n",
      "median      31.650000\n",
      "sum       2097.600000\n",
      "Name: Penetration_Population, dtype: float64\n"
     ]
    }
   ],
   "source": [
    "print(data['Penetration_Population'].apply({'The mean is:':'mean',\"Median is:\":\"median\"}))\n",
    "print(data['Penetration_Population'].apply(['std','min','max','median','sum']))"
   ]
  },
  {
   "cell_type": "markdown",
   "id": "c69b78fa",
   "metadata": {},
   "source": [
    "# 3. Iterating over DataFrame rows"
   ]
  },
  {
   "cell_type": "markdown",
   "id": "d4b2e935",
   "metadata": {},
   "source": [
    "###  iterrows()"
   ]
  },
  {
   "cell_type": "code",
   "execution_count": 38,
   "id": "132f30f6",
   "metadata": {},
   "outputs": [
    {
     "name": "stdout",
     "output_type": "stream",
     "text": [
      "Algeria  :  Population_2020_Est       43,851,044\n",
      "Penetration_Population          58.0\n",
      "Name: Algeria, dtype: object\n",
      "Angola  :  Population_2020_Est       32,866,272\n",
      "Penetration_Population          27.3\n",
      "Name: Angola, dtype: object\n",
      "Benin  :  Population_2020_Est       12,123,200\n",
      "Penetration_Population          31.4\n",
      "Name: Benin, dtype: object\n",
      "Botswana  :  Population_2020_Est       2,351,627\n",
      "Penetration_Population         47.5\n",
      "Name: Botswana, dtype: object\n",
      "Burkina Faso  :  Population_2020_Est       20,903,273\n",
      "Penetration_Population          22.0\n",
      "Name: Burkina Faso, dtype: object\n",
      "Burundi  :  Population_2020_Est       11,890,784\n",
      "Penetration_Population           9.7\n",
      "Name: Burundi, dtype: object\n",
      "Cabo Verde  :  Population_2020_Est       555,987\n",
      "Penetration_Population       63.3\n",
      "Name: Cabo Verde, dtype: object\n",
      "Cameroon  :  Population_2020_Est       26,545,863\n",
      "Penetration_Population          29.7\n",
      "Name: Cameroon, dtype: object\n",
      "Central African Rep.  :  Population_2020_Est       4,829,767\n",
      "Penetration_Population         13.6\n",
      "Name: Central African Rep., dtype: object\n",
      "Chad  :  Population_2020_Est       16,425,864\n",
      "Penetration_Population          13.6\n",
      "Name: Chad, dtype: object\n",
      "Comoros  :  Population_2020_Est       869,901\n",
      "Penetration_Population       20.5\n",
      "Name: Comoros, dtype: object\n",
      "Congo  :  Population_2020_Est       5,518,087\n",
      "Penetration_Population         13.3\n",
      "Name: Congo, dtype: object\n",
      "Congo, Dem. Rep.  :  Population_2020_Est       89,561,403\n",
      "Penetration_Population          18.3\n",
      "Name: Congo, Dem. Rep., dtype: object\n",
      "Cote d'Ivoire  :  Population_2020_Est       26,378,274\n",
      "Penetration_Population          46.5\n",
      "Name: Cote d'Ivoire, dtype: object\n",
      "Djibouti  :  Population_2020_Est       988,000\n",
      "Penetration_Population       55.5\n",
      "Name: Djibouti, dtype: object\n",
      "Egypt  :  Population_2020_Est       102,334,404\n",
      "Penetration_Population           48.1\n",
      "Name: Egypt, dtype: object\n",
      "Equatorial Guinea  :  Population_2020_Est       1,402,985\n",
      "Penetration_Population         25.4\n",
      "Name: Equatorial Guinea, dtype: object\n",
      "Eritrea  :  Population_2020_Est       3,546,421\n",
      "Penetration_Population          8.3\n",
      "Name: Eritrea, dtype: object\n",
      "Eswatini  :  Population_2020_Est       1,160,164\n",
      "Penetration_Population         57.3\n",
      "Name: Eswatini, dtype: object\n",
      "Ethiopia  :  Population_2020_Est       114,963,588\n",
      "Penetration_Population           17.8\n",
      "Name: Ethiopia, dtype: object\n",
      "Gabon  :  Population_2020_Est       2,225,734\n",
      "Penetration_Population         58.8\n",
      "Name: Gabon, dtype: object\n",
      "Gambia  :  Population_2020_Est       2,416,668\n",
      "Penetration_Population         18.3\n",
      "Name: Gambia, dtype: object\n",
      "Ghana  :  Population_2020_Est       31,072,940\n",
      "Penetration_Population          37.8\n",
      "Name: Ghana, dtype: object\n",
      "Guinea  :  Population_2020_Est       13,132,795\n",
      "Penetration_Population          18.4\n",
      "Name: Guinea, dtype: object\n",
      "Guinea-Bissau  :  Population_2020_Est       1,968,001\n",
      "Penetration_Population         12.7\n",
      "Name: Guinea-Bissau, dtype: object\n",
      "Kenya  :  Population_2020_Est       53,771,296\n",
      "Penetration_Population          87.2\n",
      "Name: Kenya, dtype: object\n",
      "Lesotho  :  Population_2020_Est       2,142,249\n",
      "Penetration_Population         31.9\n",
      "Name: Lesotho, dtype: object\n",
      "Liberia  :  Population_2020_Est       5,057,681\n",
      "Penetration_Population         12.3\n",
      "Name: Liberia, dtype: object\n",
      "Libya  :  Population_2020_Est       6,871,292\n",
      "Penetration_Population         74.2\n",
      "Name: Libya, dtype: object\n",
      "Madagascar  :  Population_2020_Est       27,691,018\n",
      "Penetration_Population           9.5\n",
      "Name: Madagascar, dtype: object\n",
      "Malawi  :  Population_2020_Est       19,129,952\n",
      "Penetration_Population          14.2\n",
      "Name: Malawi, dtype: object\n",
      "Mali  :  Population_2020_Est       20,250,833\n",
      "Penetration_Population          61.6\n",
      "Name: Mali, dtype: object\n",
      "Mauritania  :  Population_2020_Est       4,649,658\n",
      "Penetration_Population         20.9\n",
      "Name: Mauritania, dtype: object\n",
      "Mauritius  :  Population_2020_Est       1,271,768\n",
      "Penetration_Population         67.0\n",
      "Name: Mauritius, dtype: object\n",
      "Mayotte (FR)  :  Population_2020_Est       272,815\n",
      "Penetration_Population       39.6\n",
      "Name: Mayotte (FR), dtype: object\n",
      "Morocco  :  Population_2020_Est       36,910,560\n",
      "Penetration_Population          64.3\n",
      "Name: Morocco, dtype: object\n",
      "Mozambique  :  Population_2020_Est       31,255,435\n",
      "Penetration_Population          20.9\n",
      "Name: Mozambique, dtype: object\n",
      "Namibia  :  Population_2020_Est       2,540,905\n",
      "Penetration_Population         53.0\n",
      "Name: Namibia, dtype: object\n",
      "Niger  :  Population_2020_Est       24,206,644\n",
      "Penetration_Population          11.5\n",
      "Name: Niger, dtype: object\n",
      "Nigeria  :  Population_2020_Est       206,139,589\n",
      "Penetration_Population           61.2\n",
      "Name: Nigeria, dtype: object\n",
      "Reunion (FR)  :  Population_2020_Est       895,312\n",
      "Penetration_Population       61.8\n",
      "Name: Reunion (FR), dtype: object\n",
      "Rwanda  :  Population_2020_Est       12,952,218\n",
      "Penetration_Population          46.2\n",
      "Name: Rwanda, dtype: object\n",
      "Saint Helena (UK)  :  Population_2020_Est       6,077\n",
      "Penetration_Population     37.8\n",
      "Name: Saint Helena (UK), dtype: object\n",
      "Sao Tome & Principe  :  Population_2020_Est       219,159\n",
      "Penetration_Population       29.1\n",
      "Name: Sao Tome & Principe, dtype: object\n",
      "Senegal  :  Population_2020_Est       16,743,927\n",
      "Penetration_Population          58.2\n",
      "Name: Senegal, dtype: object\n",
      "Seychelles  :  Population_2020_Est       98,347\n",
      "Penetration_Population      72.5\n",
      "Name: Seychelles, dtype: object\n",
      "Sierra Leone  :  Population_2020_Est       7,976,983\n",
      "Penetration_Population         13.1\n",
      "Name: Sierra Leone, dtype: object\n",
      "Somalia  :  Population_2020_Est       15,893,222\n",
      "Penetration_Population          10.7\n",
      "Name: Somalia, dtype: object\n",
      "South Africa  :  Population_2020_Est       59,308,690\n",
      "Penetration_Population          55.0\n",
      "Name: South Africa, dtype: object\n",
      "South Sudan  :  Population_2020_Est       11,193,725\n",
      "Penetration_Population           7.9\n",
      "Name: South Sudan, dtype: object\n",
      "Sudan  :  Population_2020_Est       43,849,260\n",
      "Penetration_Population          29.9\n",
      "Name: Sudan, dtype: object\n",
      "Tanzania  :  Population_2020_Est       59,734,218\n",
      "Penetration_Population          38.7\n",
      "Name: Tanzania, dtype: object\n",
      "Togo  :  Population_2020_Est       8,278,724\n",
      "Penetration_Population         12.2\n",
      "Name: Togo, dtype: object\n",
      "Tunisia  :  Population_2020_Est       11,818,619\n",
      "Penetration_Population          66.8\n",
      "Name: Tunisia, dtype: object\n",
      "Uganda  :  Population_2020_Est       45,741,007\n",
      "Penetration_Population          40.4\n",
      "Name: Uganda, dtype: object\n",
      "Western Sahara  :  Population_2020_Est       597,339\n",
      "Penetration_Population        4.7\n",
      "Name: Western Sahara, dtype: object\n",
      "Zambia  :  Population_2020_Est       18,383,955\n",
      "Penetration_Population          53.7\n",
      "Name: Zambia, dtype: object\n",
      "Zimbabwe  :  Population_2020_Est       14,862,924\n",
      "Penetration_Population          56.5\n",
      "Name: Zimbabwe, dtype: object\n",
      "TOTAL AFRICA  :  Population_2020_Est       1,340,598,447\n",
      "Penetration_Population             39.3\n",
      "Name: TOTAL AFRICA, dtype: object\n",
      "Rest of World  :  Population_2020_Est       6,456,017,263\n",
      "Penetration_Population             62.9\n",
      "Name: Rest of World, dtype: object\n",
      "WORLD TOTAL  :  Population_2020_Est       7,796,615,710\n",
      "Penetration_Population             58.8\n",
      "Name: WORLD TOTAL, dtype: object\n",
      "NOTES: (1) Africa Internet Statistics for Dec 31, 2019, updated as of March 21, 2020. (2) Africa Facebook subscribers are estimated for December 31, 2019. (3) CLICK on each country name for further data on individual countries and regions. (4) Africa Population numbers are mid-year 2020 estimates, based on data from the United Nations Population Division. (5) For definitions, navigation help and methodology, see the site surfing guide. (6) Africa Internet usage information comes from, among others, data published by WWW, ITU , Facebook, and other trustworthy information sources. (7) For Internet growth comparison purposes, baseline Internet usage data for the year 2000 is also displayed. (8) Data from this table may be cited, giving the due credit to Internet World Stats and establishing a link back to www.internetworldstats.com Copyright 2020, © Miniwatts Marketing Group. All rights reserved worldwide.  :  Population_2020_Est       NaN\n",
      "Penetration_Population    NaN\n",
      "Name: NOTES: (1) Africa Internet Statistics for Dec 31, 2019, updated as of March 21, 2020. (2) Africa Facebook subscribers are estimated for December 31, 2019. (3) CLICK on each country name for further data on individual countries and regions. (4) Africa Population numbers are mid-year 2020 estimates, based on data from the United Nations Population Division. (5) For definitions, navigation help and methodology, see the site surfing guide. (6) Africa Internet usage information comes from, among others, data published by WWW, ITU , Facebook, and other trustworthy information sources. (7) For Internet growth comparison purposes, baseline Internet usage data for the year 2000 is also displayed. (8) Data from this table may be cited, giving the due credit to Internet World Stats and establishing a link back to www.internetworldstats.com Copyright 2020, © Miniwatts Marketing Group. All rights reserved worldwide., dtype: object\n"
     ]
    }
   ],
   "source": [
    "\n",
    "for index, row in data.iterrows():\n",
    "   print(index,\" : \", row[['Population_2020_Est','Penetration_Population']]) \n",
    "\n"
   ]
  },
  {
   "cell_type": "markdown",
   "id": "c37af8ef",
   "metadata": {},
   "source": [
    "###  Itertuples"
   ]
  },
  {
   "cell_type": "code",
   "execution_count": 35,
   "id": "e2d0e2f5",
   "metadata": {},
   "outputs": [
    {
     "name": "stdout",
     "output_type": "stream",
     "text": [
      "Data(AFRICA='Algeria', Population_2020_Est='43,851,044', Internet_Users_31_Dec_2000='50,000', Internet_Users_30_SEPT_20='25,428,159', Penetration_Population=58.0, Internet_Growth_2000_2020='50,756%', Facebook_subscribers_30_SEPT_2020='24,730,000', countries_name_length=7)\n",
      "Data(AFRICA='Angola', Population_2020_Est='32,866,272', Internet_Users_31_Dec_2000='30,000', Internet_Users_30_SEPT_20='8,980,670', Penetration_Population=27.3, Internet_Growth_2000_2020='29,835%', Facebook_subscribers_30_SEPT_2020='2,244,000', countries_name_length=6)\n",
      "Data(AFRICA='Benin', Population_2020_Est='12,123,200', Internet_Users_31_Dec_2000='15,000', Internet_Users_30_SEPT_20='3,801,758', Penetration_Population=31.4, Internet_Growth_2000_2020='25,245%', Facebook_subscribers_30_SEPT_2020='920,000', countries_name_length=5)\n",
      "Data(AFRICA='Botswana', Population_2020_Est='2,351,627', Internet_Users_31_Dec_2000='15,000', Internet_Users_30_SEPT_20='1,116,079', Penetration_Population=47.5, Internet_Growth_2000_2020='7,340%', Facebook_subscribers_30_SEPT_2020='830,000', countries_name_length=8)\n",
      "Data(AFRICA='Burkina Faso', Population_2020_Est='20,903,273', Internet_Users_31_Dec_2000='10,000', Internet_Users_30_SEPT_20='4,594,265', Penetration_Population=22.0, Internet_Growth_2000_2020='45,842%', Facebook_subscribers_30_SEPT_2020='840,000', countries_name_length=12)\n",
      "Data(AFRICA='Burundi', Population_2020_Est='11,890,784', Internet_Users_31_Dec_2000='3,000', Internet_Users_30_SEPT_20='1,154,568', Penetration_Population=9.7, Internet_Growth_2000_2020='38,385%', Facebook_subscribers_30_SEPT_2020='450,000', countries_name_length=7)\n",
      "Data(AFRICA='Cabo Verde', Population_2020_Est='555,987', Internet_Users_31_Dec_2000='8,000', Internet_Users_30_SEPT_20='352,120', Penetration_Population=63.3, Internet_Growth_2000_2020='4,302%', Facebook_subscribers_30_SEPT_2020='240,000', countries_name_length=10)\n",
      "Data(AFRICA='Cameroon', Population_2020_Est='26,545,863', Internet_Users_31_Dec_2000='20,000', Internet_Users_30_SEPT_20='7,878,422', Penetration_Population=29.7, Internet_Growth_2000_2020='39,292%', Facebook_subscribers_30_SEPT_2020='2,700,000', countries_name_length=8)\n",
      "Data(AFRICA='Central African Rep.', Population_2020_Est='4,829,767', Internet_Users_31_Dec_2000='1,500', Internet_Users_30_SEPT_20='655,466', Penetration_Population=13.6, Internet_Growth_2000_2020='43,597%', Facebook_subscribers_30_SEPT_2020='122,100', countries_name_length=20)\n",
      "Data(AFRICA='Chad', Population_2020_Est='16,425,864', Internet_Users_31_Dec_2000='1,000', Internet_Users_30_SEPT_20='2,237,932', Penetration_Population=13.6, Internet_Growth_2000_2020='223,693%', Facebook_subscribers_30_SEPT_2020='328,000', countries_name_length=4)\n",
      "Data(AFRICA='Comoros', Population_2020_Est='869,901', Internet_Users_31_Dec_2000='1,500', Internet_Users_30_SEPT_20='178,500', Penetration_Population=20.5, Internet_Growth_2000_2020='11,800%', Facebook_subscribers_30_SEPT_2020='178,500', countries_name_length=7)\n",
      "Data(AFRICA='Congo', Population_2020_Est='5,518,087', Internet_Users_31_Dec_2000='500', Internet_Users_30_SEPT_20='732,800', Penetration_Population=13.3, Internet_Growth_2000_2020='146,460%', Facebook_subscribers_30_SEPT_2020='732,800', countries_name_length=5)\n",
      "Data(AFRICA='Congo, Dem. Rep.', Population_2020_Est='89,561,403', Internet_Users_31_Dec_2000='500', Internet_Users_30_SEPT_20='16,355,917', Penetration_Population=18.3, Internet_Growth_2000_2020='3,271,083%', Facebook_subscribers_30_SEPT_2020='3,117,000', countries_name_length=16)\n",
      "Data(AFRICA=\"Cote d'Ivoire\", Population_2020_Est='26,378,274', Internet_Users_31_Dec_2000='40,000', Internet_Users_30_SEPT_20='12,253,653', Penetration_Population=46.5, Internet_Growth_2000_2020='30,534%', Facebook_subscribers_30_SEPT_2020='4,758,000', countries_name_length=13)\n",
      "Data(AFRICA='Djibouti', Population_2020_Est='988,000', Internet_Users_31_Dec_2000='1,400', Internet_Users_30_SEPT_20='548,832', Penetration_Population=55.5, Internet_Growth_2000_2020='39,102%', Facebook_subscribers_30_SEPT_2020='211,700', countries_name_length=8)\n",
      "Data(AFRICA='Egypt', Population_2020_Est='102,334,404', Internet_Users_31_Dec_2000='450,000', Internet_Users_30_SEPT_20='49,231,493', Penetration_Population=48.1, Internet_Growth_2000_2020='10,840%', Facebook_subscribers_30_SEPT_2020='42,400,000', countries_name_length=5)\n",
      "Data(AFRICA='Equatorial Guinea', Population_2020_Est='1,402,985', Internet_Users_31_Dec_2000='500', Internet_Users_30_SEPT_20='356,891', Penetration_Population=25.4, Internet_Growth_2000_2020='71,278%', Facebook_subscribers_30_SEPT_2020='100,600', countries_name_length=17)\n",
      "Data(AFRICA='Eritrea', Population_2020_Est='3,546,421', Internet_Users_31_Dec_2000='5,000', Internet_Users_30_SEPT_20='293,343', Penetration_Population=8.3, Internet_Growth_2000_2020='5,766%', Facebook_subscribers_30_SEPT_2020='21,900', countries_name_length=7)\n",
      "Data(AFRICA='Eswatini', Population_2020_Est='1,160,164', Internet_Users_31_Dec_2000='10,000', Internet_Users_30_SEPT_20='665,245', Penetration_Population=57.3, Internet_Growth_2000_2020='6,552%', Facebook_subscribers_30_SEPT_2020='255,200', countries_name_length=8)\n",
      "Data(AFRICA='Ethiopia', Population_2020_Est='114,963,588', Internet_Users_31_Dec_2000='10,000', Internet_Users_30_SEPT_20='20,507,255', Penetration_Population=17.8, Internet_Growth_2000_2020='204,972%', Facebook_subscribers_30_SEPT_2020='6,007,000', countries_name_length=8)\n",
      "Data(AFRICA='Gabon', Population_2020_Est='2,225,734', Internet_Users_31_Dec_2000='15,000', Internet_Users_30_SEPT_20='1,307,641', Penetration_Population=58.8, Internet_Growth_2000_2020='8,617%', Facebook_subscribers_30_SEPT_2020='743,000', countries_name_length=5)\n",
      "Data(AFRICA='Gambia', Population_2020_Est='2,416,668', Internet_Users_31_Dec_2000='4,000', Internet_Users_30_SEPT_20='442,050', Penetration_Population=18.3, Internet_Growth_2000_2020='10,951%', Facebook_subscribers_30_SEPT_2020='370,100', countries_name_length=6)\n",
      "Data(AFRICA='Ghana', Population_2020_Est='31,072,940', Internet_Users_31_Dec_2000='30,000', Internet_Users_30_SEPT_20='11,737,818', Penetration_Population=37.8, Internet_Growth_2000_2020='39,026%', Facebook_subscribers_30_SEPT_2020='4,900,000', countries_name_length=5)\n",
      "Data(AFRICA='Guinea', Population_2020_Est='13,132,795', Internet_Users_31_Dec_2000='8,000', Internet_Users_30_SEPT_20='2,411,672', Penetration_Population=18.4, Internet_Growth_2000_2020='30,046%', Facebook_subscribers_30_SEPT_2020='2,008,000', countries_name_length=6)\n",
      "Data(AFRICA='Guinea-Bissau', Population_2020_Est='1,968,001', Internet_Users_31_Dec_2000='1,500', Internet_Users_30_SEPT_20='250,000', Penetration_Population=12.7, Internet_Growth_2000_2020='16,567%', Facebook_subscribers_30_SEPT_2020='140,000', countries_name_length=13)\n",
      "Data(AFRICA='Kenya', Population_2020_Est='53,771,296', Internet_Users_31_Dec_2000='200,000', Internet_Users_30_SEPT_20='46,870,422', Penetration_Population=87.2, Internet_Growth_2000_2020='23,335%', Facebook_subscribers_30_SEPT_2020='7,000,000', countries_name_length=5)\n",
      "Data(AFRICA='Lesotho', Population_2020_Est='2,142,249', Internet_Users_31_Dec_2000='4,000', Internet_Users_30_SEPT_20='682,990', Penetration_Population=31.9, Internet_Growth_2000_2020='16,975%', Facebook_subscribers_30_SEPT_2020='445,600', countries_name_length=7)\n",
      "Data(AFRICA='Liberia', Population_2020_Est='5,057,681', Internet_Users_31_Dec_2000='500', Internet_Users_30_SEPT_20='624,610', Penetration_Population=12.3, Internet_Growth_2000_2020='124,822%', Facebook_subscribers_30_SEPT_2020='537,000', countries_name_length=7)\n",
      "Data(AFRICA='Libya', Population_2020_Est='6,871,292', Internet_Users_31_Dec_2000='10,000', Internet_Users_30_SEPT_20='5,100,000', Penetration_Population=74.2, Internet_Growth_2000_2020='50,900%', Facebook_subscribers_30_SEPT_2020='5,094,000', countries_name_length=5)\n",
      "Data(AFRICA='Madagascar', Population_2020_Est='27,691,018', Internet_Users_31_Dec_2000='30,000', Internet_Users_30_SEPT_20='2,643,025', Penetration_Population=9.5, Internet_Growth_2000_2020='8,710%', Facebook_subscribers_30_SEPT_2020='2,317,000', countries_name_length=10)\n",
      "Data(AFRICA='Malawi', Population_2020_Est='19,129,952', Internet_Users_31_Dec_2000='15,000', Internet_Users_30_SEPT_20='2,717,243', Penetration_Population=14.2, Internet_Growth_2000_2020='18,015%', Facebook_subscribers_30_SEPT_2020='500,200', countries_name_length=6)\n",
      "Data(AFRICA='Mali', Population_2020_Est='20,250,833', Internet_Users_31_Dec_2000='18,800', Internet_Users_30_SEPT_20='12,480,176', Penetration_Population=61.6, Internet_Growth_2000_2020='66,284%', Facebook_subscribers_30_SEPT_2020='1,670,100', countries_name_length=4)\n",
      "Data(AFRICA='Mauritania', Population_2020_Est='4,649,658', Internet_Users_31_Dec_2000='5,000', Internet_Users_30_SEPT_20='969,519', Penetration_Population=20.9, Internet_Growth_2000_2020='19,290%', Facebook_subscribers_30_SEPT_2020='796,900', countries_name_length=10)\n",
      "Data(AFRICA='Mauritius', Population_2020_Est='1,271,768', Internet_Users_31_Dec_2000='87,000', Internet_Users_30_SEPT_20='852,000', Penetration_Population=67.0, Internet_Growth_2000_2020='879%', Facebook_subscribers_30_SEPT_2020='852,000', countries_name_length=9)\n",
      "Data(AFRICA='Mayotte (FR)', Population_2020_Est='272,815', Internet_Users_31_Dec_2000=nan, Internet_Users_30_SEPT_20='107,940', Penetration_Population=39.6, Internet_Growth_2000_2020=nan, Facebook_subscribers_30_SEPT_2020='91,400', countries_name_length=12)\n",
      "Data(AFRICA='Morocco', Population_2020_Est='36,910,560', Internet_Users_31_Dec_2000='100,000', Internet_Users_30_SEPT_20='23,739,581', Penetration_Population=64.3, Internet_Growth_2000_2020='23,639%', Facebook_subscribers_30_SEPT_2020='18,330,000', countries_name_length=7)\n",
      "Data(AFRICA='Mozambique', Population_2020_Est='31,255,435', Internet_Users_31_Dec_2000='30,000', Internet_Users_30_SEPT_20='6,523,613', Penetration_Population=20.9, Internet_Growth_2000_2020='21,645%', Facebook_subscribers_30_SEPT_2020='2,448,000', countries_name_length=10)\n",
      "Data(AFRICA='Namibia', Population_2020_Est='2,540,905', Internet_Users_31_Dec_2000='30,000', Internet_Users_30_SEPT_20='1,347,418', Penetration_Population=53.0, Internet_Growth_2000_2020='4,391%', Facebook_subscribers_30_SEPT_2020='692,400', countries_name_length=7)\n",
      "Data(AFRICA='Niger', Population_2020_Est='24,206,644', Internet_Users_31_Dec_2000='5,000', Internet_Users_30_SEPT_20='2,781,266', Penetration_Population=11.5, Internet_Growth_2000_2020='55,525%', Facebook_subscribers_30_SEPT_2020='500,200', countries_name_length=5)\n",
      "Data(AFRICA='Nigeria', Population_2020_Est='206,139,589', Internet_Users_31_Dec_2000='200,000', Internet_Users_30_SEPT_20='126,078,999', Penetration_Population=61.2, Internet_Growth_2000_2020='62,939%', Facebook_subscribers_30_SEPT_2020='27,120,000', countries_name_length=7)\n",
      "Data(AFRICA='Reunion (FR)', Population_2020_Est='895,312', Internet_Users_31_Dec_2000='130,000', Internet_Users_30_SEPT_20='553,000', Penetration_Population=61.8, Internet_Growth_2000_2020='325%', Facebook_subscribers_30_SEPT_2020='544,000', countries_name_length=12)\n",
      "Data(AFRICA='Rwanda', Population_2020_Est='12,952,218', Internet_Users_31_Dec_2000='5,000', Internet_Users_30_SEPT_20='5,981,638', Penetration_Population=46.2, Internet_Growth_2000_2020='119,532%', Facebook_subscribers_30_SEPT_2020='592,400', countries_name_length=6)\n",
      "Data(AFRICA='Saint Helena (UK)', Population_2020_Est='6,077', Internet_Users_31_Dec_2000=nan, Internet_Users_30_SEPT_20='2,300', Penetration_Population=37.8, Internet_Growth_2000_2020=nan, Facebook_subscribers_30_SEPT_2020='2,300', countries_name_length=17)\n",
      "Data(AFRICA='Sao Tome & Principe', Population_2020_Est='219,159', Internet_Users_31_Dec_2000='6,500', Internet_Users_30_SEPT_20='63,864', Penetration_Population=29.1, Internet_Growth_2000_2020='882%', Facebook_subscribers_30_SEPT_2020='58,400', countries_name_length=19)\n",
      "Data(AFRICA='Senegal', Population_2020_Est='16,743,927', Internet_Users_31_Dec_2000='40,000', Internet_Users_30_SEPT_20='9,749,527', Penetration_Population=58.2, Internet_Growth_2000_2020='24,274%', Facebook_subscribers_30_SEPT_2020='3,408,000', countries_name_length=7)\n",
      "Data(AFRICA='Seychelles', Population_2020_Est='98,347', Internet_Users_31_Dec_2000='6,000', Internet_Users_30_SEPT_20='71,300', Penetration_Population=72.5, Internet_Growth_2000_2020='1,088%', Facebook_subscribers_30_SEPT_2020='71,000', countries_name_length=10)\n",
      "Data(AFRICA='Sierra Leone', Population_2020_Est='7,976,983', Internet_Users_31_Dec_2000='5,000', Internet_Users_30_SEPT_20='1,043,725', Penetration_Population=13.1, Internet_Growth_2000_2020='20,774%', Facebook_subscribers_30_SEPT_2020='693,400', countries_name_length=12)\n",
      "Data(AFRICA='Somalia', Population_2020_Est='15,893,222', Internet_Users_31_Dec_2000='200', Internet_Users_30_SEPT_20='1,705,300', Penetration_Population=10.7, Internet_Growth_2000_2020='852,550%', Facebook_subscribers_30_SEPT_2020='1,666,500', countries_name_length=7)\n",
      "Data(AFRICA='South Africa', Population_2020_Est='59,308,690', Internet_Users_31_Dec_2000='2,400,000', Internet_Users_30_SEPT_20='32,615,165', Penetration_Population=55.0, Internet_Growth_2000_2020='1,259%', Facebook_subscribers_30_SEPT_2020='21,280,000', countries_name_length=12)\n",
      "Data(AFRICA='South Sudan', Population_2020_Est='11,193,725', Internet_Users_31_Dec_2000=nan, Internet_Users_30_SEPT_20='887,722', Penetration_Population=7.9, Internet_Growth_2000_2020=nan, Facebook_subscribers_30_SEPT_2020='282,901', countries_name_length=11)\n",
      "Data(AFRICA='Sudan', Population_2020_Est='43,849,260', Internet_Users_31_Dec_2000='30,000', Internet_Users_30_SEPT_20='13,124,100', Penetration_Population=29.9, Internet_Growth_2000_2020='43,647%', Facebook_subscribers_30_SEPT_2020='1,300,000', countries_name_length=5)\n",
      "Data(AFRICA='Tanzania', Population_2020_Est='59,734,218', Internet_Users_31_Dec_2000='115,000', Internet_Users_30_SEPT_20='23,142,960', Penetration_Population=38.7, Internet_Growth_2000_2020='20,024%', Facebook_subscribers_30_SEPT_2020='4,271,000', countries_name_length=8)\n",
      "Data(AFRICA='Togo', Population_2020_Est='8,278,724', Internet_Users_31_Dec_2000='100,000', Internet_Users_30_SEPT_20='1,011,837', Penetration_Population=12.2, Internet_Growth_2000_2020='912%', Facebook_subscribers_30_SEPT_2020='658,100', countries_name_length=4)\n",
      "Data(AFRICA='Tunisia', Population_2020_Est='11,818,619', Internet_Users_31_Dec_2000='100,000', Internet_Users_30_SEPT_20='7,898,534', Penetration_Population=66.8, Internet_Growth_2000_2020='7,798%', Facebook_subscribers_30_SEPT_2020='7,445,000', countries_name_length=7)\n",
      "Data(AFRICA='Uganda', Population_2020_Est='45,741,007', Internet_Users_31_Dec_2000='40,000', Internet_Users_30_SEPT_20='18,502,166', Penetration_Population=40.4, Internet_Growth_2000_2020='46,155%', Facebook_subscribers_30_SEPT_2020='2,471,000', countries_name_length=6)\n",
      "Data(AFRICA='Western Sahara', Population_2020_Est='597,339', Internet_Users_31_Dec_2000=nan, Internet_Users_30_SEPT_20='28,000', Penetration_Population=4.7, Internet_Growth_2000_2020=nan, Facebook_subscribers_30_SEPT_2020='27,000', countries_name_length=14)\n",
      "Data(AFRICA='Zambia', Population_2020_Est='18,383,955', Internet_Users_31_Dec_2000='20,000', Internet_Users_30_SEPT_20='9,870,427', Penetration_Population=53.7, Internet_Growth_2000_2020='49,252%', Facebook_subscribers_30_SEPT_2020='2,253,000', countries_name_length=6)\n",
      "Data(AFRICA='Zimbabwe', Population_2020_Est='14,862,924', Internet_Users_31_Dec_2000='50,000', Internet_Users_30_SEPT_20='8,400,000', Penetration_Population=56.5, Internet_Growth_2000_2020='16,700%', Facebook_subscribers_30_SEPT_2020='994,000', countries_name_length=8)\n",
      "Data(AFRICA='TOTAL AFRICA', Population_2020_Est='1,340,598,447', Internet_Users_31_Dec_2000='4,514,400', Internet_Users_30_SEPT_20='526,710,313', Penetration_Population=39.3, Internet_Growth_2000_2020='11,567%', Facebook_subscribers_30_SEPT_2020='212,911,701', countries_name_length=12)\n"
     ]
    }
   ],
   "source": [
    "# data.head()\n",
    "for row in data.itertuples(index=False, name=\"Data\"):\n",
    "    print(row)"
   ]
  },
  {
   "cell_type": "markdown",
   "id": "1ec226c8",
   "metadata": {},
   "source": [
    "###  items()"
   ]
  },
  {
   "cell_type": "code",
   "execution_count": 89,
   "id": "6f7d22a6",
   "metadata": {},
   "outputs": [
    {
     "name": "stdout",
     "output_type": "stream",
     "text": [
      "<class 'str'> <class 'pandas.core.series.Series'>\n",
      "<class 'str'> <class 'pandas.core.series.Series'>\n",
      "<class 'str'> <class 'pandas.core.series.Series'>\n",
      "<class 'str'> <class 'pandas.core.series.Series'>\n",
      "<class 'str'> <class 'pandas.core.series.Series'>\n",
      "<class 'str'> <class 'pandas.core.series.Series'>\n",
      "<class 'str'> <class 'pandas.core.series.Series'>\n"
     ]
    }
   ],
   "source": [
    "for label, content in data.items():\n",
    "    print(type(label),type(content))"
   ]
  },
  {
   "cell_type": "code",
   "execution_count": 41,
   "id": "199ba7b9",
   "metadata": {},
   "outputs": [],
   "source": [
    "data = data.set_index('AFRICA')"
   ]
  },
  {
   "cell_type": "code",
   "execution_count": 37,
   "id": "19c128b8",
   "metadata": {},
   "outputs": [
    {
     "data": {
      "text/html": [
       "<div>\n",
       "<style scoped>\n",
       "    .dataframe tbody tr th:only-of-type {\n",
       "        vertical-align: middle;\n",
       "    }\n",
       "\n",
       "    .dataframe tbody tr th {\n",
       "        vertical-align: top;\n",
       "    }\n",
       "\n",
       "    .dataframe thead th {\n",
       "        text-align: right;\n",
       "    }\n",
       "</style>\n",
       "<table border=\"1\" class=\"dataframe\">\n",
       "  <thead>\n",
       "    <tr style=\"text-align: right;\">\n",
       "      <th></th>\n",
       "      <th>Population_2020_Est</th>\n",
       "      <th>Internet_Users_31_Dec_2000</th>\n",
       "      <th>Internet_Users_30_SEPT_20</th>\n",
       "      <th>Penetration_Population</th>\n",
       "      <th>Internet_Growth_2000_2020</th>\n",
       "      <th>Facebook_subscribers_30_SEPT_2020</th>\n",
       "      <th>countries_name_length</th>\n",
       "    </tr>\n",
       "    <tr>\n",
       "      <th>AFRICA</th>\n",
       "      <th></th>\n",
       "      <th></th>\n",
       "      <th></th>\n",
       "      <th></th>\n",
       "      <th></th>\n",
       "      <th></th>\n",
       "      <th></th>\n",
       "    </tr>\n",
       "  </thead>\n",
       "  <tbody>\n",
       "    <tr>\n",
       "      <th>Algeria</th>\n",
       "      <td>43,851,044</td>\n",
       "      <td>50,000</td>\n",
       "      <td>25,428,159</td>\n",
       "      <td>58.0</td>\n",
       "      <td>50,756%</td>\n",
       "      <td>24,730,000</td>\n",
       "      <td>7</td>\n",
       "    </tr>\n",
       "    <tr>\n",
       "      <th>Angola</th>\n",
       "      <td>32,866,272</td>\n",
       "      <td>30,000</td>\n",
       "      <td>8,980,670</td>\n",
       "      <td>27.3</td>\n",
       "      <td>29,835%</td>\n",
       "      <td>2,244,000</td>\n",
       "      <td>6</td>\n",
       "    </tr>\n",
       "    <tr>\n",
       "      <th>Benin</th>\n",
       "      <td>12,123,200</td>\n",
       "      <td>15,000</td>\n",
       "      <td>3,801,758</td>\n",
       "      <td>31.4</td>\n",
       "      <td>25,245%</td>\n",
       "      <td>920,000</td>\n",
       "      <td>5</td>\n",
       "    </tr>\n",
       "    <tr>\n",
       "      <th>Botswana</th>\n",
       "      <td>2,351,627</td>\n",
       "      <td>15,000</td>\n",
       "      <td>1,116,079</td>\n",
       "      <td>47.5</td>\n",
       "      <td>7,340%</td>\n",
       "      <td>830,000</td>\n",
       "      <td>8</td>\n",
       "    </tr>\n",
       "    <tr>\n",
       "      <th>Burkina Faso</th>\n",
       "      <td>20,903,273</td>\n",
       "      <td>10,000</td>\n",
       "      <td>4,594,265</td>\n",
       "      <td>22.0</td>\n",
       "      <td>45,842%</td>\n",
       "      <td>840,000</td>\n",
       "      <td>12</td>\n",
       "    </tr>\n",
       "  </tbody>\n",
       "</table>\n",
       "</div>"
      ],
      "text/plain": [
       "             Population_2020_Est Internet_Users_31_Dec_2000  \\\n",
       "AFRICA                                                        \n",
       "Algeria               43,851,044                     50,000   \n",
       "Angola                32,866,272                     30,000   \n",
       "Benin                 12,123,200                     15,000   \n",
       "Botswana               2,351,627                     15,000   \n",
       "Burkina Faso          20,903,273                     10,000   \n",
       "\n",
       "             Internet_Users_30_SEPT_20  Penetration_Population  \\\n",
       "AFRICA                                                           \n",
       "Algeria                     25,428,159                    58.0   \n",
       "Angola                       8,980,670                    27.3   \n",
       "Benin                        3,801,758                    31.4   \n",
       "Botswana                     1,116,079                    47.5   \n",
       "Burkina Faso                 4,594,265                    22.0   \n",
       "\n",
       "             Internet_Growth_2000_2020 Facebook_subscribers_30_SEPT_2020  \\\n",
       "AFRICA                                                                     \n",
       "Algeria                        50,756%                        24,730,000   \n",
       "Angola                         29,835%                         2,244,000   \n",
       "Benin                          25,245%                           920,000   \n",
       "Botswana                        7,340%                           830,000   \n",
       "Burkina Faso                   45,842%                           840,000   \n",
       "\n",
       "              countries_name_length  \n",
       "AFRICA                               \n",
       "Algeria                           7  \n",
       "Angola                            6  \n",
       "Benin                             5  \n",
       "Botswana                          8  \n",
       "Burkina Faso                     12  "
      ]
     },
     "execution_count": 37,
     "metadata": {},
     "output_type": "execute_result"
    }
   ],
   "source": [
    "data.head()"
   ]
  },
  {
   "cell_type": "markdown",
   "id": "539c3b86",
   "metadata": {},
   "source": [
    "# 4. Pandas plotting\n",
    "\n",
    "###  line plot"
   ]
  },
  {
   "cell_type": "code",
   "execution_count": 45,
   "id": "8c42c114",
   "metadata": {},
   "outputs": [
    {
     "data": {
      "text/plain": [
       "<AxesSubplot:title={'center':'Percentage of penetration of internet in Africa'}, xlabel='Africa Countries', ylabel='Percentage in %'>"
      ]
     },
     "execution_count": 45,
     "metadata": {},
     "output_type": "execute_result"
    },
    {
     "data": {
      "image/png": "[encoded data removed]",
      "text/plain": [
       "<Figure size 864x504 with 1 Axes>"
      ]
     },
     "metadata": {
      "needs_background": "light"
     },
     "output_type": "display_data"
    }
   ],
   "source": [
    "# data.plot(kind=\"line\",  figsize=[7,14], legend=True)\n",
    "# data['Penetration_Population'].hist(legend=True)\n",
    "\n",
    "data.plot(y=\"Penetration_Population\", figsize=[12,7], title=\"Percentage of penetration of internet in Africa\", xlabel=\"Africa Countries\", ylabel=\"Percentage in %\", fontsize=20,style=\":\", rot=90, colormap=\"Accent\", )\n"
   ]
  },
  {
   "cell_type": "markdown",
   "id": "e11815fb",
   "metadata": {},
   "source": [
    "### 2. Hist"
   ]
  },
  {
   "cell_type": "code",
   "execution_count": 73,
   "id": "de4eb655",
   "metadata": {},
   "outputs": [
    {
     "ename": "AttributeError",
     "evalue": "'DataFrame' object has no attribute 'barh'",
     "output_type": "error",
     "traceback": [
      "\u001b[0;31m---------------------------------------------------------------------------\u001b[0m",
      "\u001b[0;31mAttributeError\u001b[0m                            Traceback (most recent call last)",
      "\u001b[0;32m/tmp/ipykernel_30909/4279873473.py\u001b[0m in \u001b[0;36m<module>\u001b[0;34m\u001b[0m\n\u001b[1;32m      1\u001b[0m \u001b[0;31m# data.head()\u001b[0m\u001b[0;34m\u001b[0m\u001b[0;34m\u001b[0m\u001b[0m\n\u001b[1;32m      2\u001b[0m \u001b[0;31m# data.plot(kind=\"bar\", figsize=[12,9], subplots=True, grid=True)\u001b[0m\u001b[0;34m\u001b[0m\u001b[0;34m\u001b[0m\u001b[0m\n\u001b[0;32m----> 3\u001b[0;31m \u001b[0mdata\u001b[0m\u001b[0;34m.\u001b[0m\u001b[0mbarh\u001b[0m\u001b[0;34m\u001b[0m\u001b[0;34m\u001b[0m\u001b[0m\n\u001b[0m",
      "\u001b[0;32m~/.local/lib/python3.9/site-packages/pandas/core/generic.py\u001b[0m in \u001b[0;36m__getattr__\u001b[0;34m(self, name)\u001b[0m\n\u001b[1;32m   5485\u001b[0m         ):\n\u001b[1;32m   5486\u001b[0m             \u001b[0;32mreturn\u001b[0m \u001b[0mself\u001b[0m\u001b[0;34m[\u001b[0m\u001b[0mname\u001b[0m\u001b[0;34m]\u001b[0m\u001b[0;34m\u001b[0m\u001b[0;34m\u001b[0m\u001b[0m\n\u001b[0;32m-> 5487\u001b[0;31m         \u001b[0;32mreturn\u001b[0m \u001b[0mobject\u001b[0m\u001b[0;34m.\u001b[0m\u001b[0m__getattribute__\u001b[0m\u001b[0;34m(\u001b[0m\u001b[0mself\u001b[0m\u001b[0;34m,\u001b[0m \u001b[0mname\u001b[0m\u001b[0;34m)\u001b[0m\u001b[0;34m\u001b[0m\u001b[0;34m\u001b[0m\u001b[0m\n\u001b[0m\u001b[1;32m   5488\u001b[0m \u001b[0;34m\u001b[0m\u001b[0m\n\u001b[1;32m   5489\u001b[0m     \u001b[0;32mdef\u001b[0m \u001b[0m__setattr__\u001b[0m\u001b[0;34m(\u001b[0m\u001b[0mself\u001b[0m\u001b[0;34m,\u001b[0m \u001b[0mname\u001b[0m\u001b[0;34m:\u001b[0m \u001b[0mstr\u001b[0m\u001b[0;34m,\u001b[0m \u001b[0mvalue\u001b[0m\u001b[0;34m)\u001b[0m \u001b[0;34m->\u001b[0m \u001b[0;32mNone\u001b[0m\u001b[0;34m:\u001b[0m\u001b[0;34m\u001b[0m\u001b[0;34m\u001b[0m\u001b[0m\n",
      "\u001b[0;31mAttributeError\u001b[0m: 'DataFrame' object has no attribute 'barh'"
     ]
    }
   ],
   "source": [
    "# data.head()\n",
    "data.plot(kind=\"bar\", figsize=[12,9], subplots=True, grid=True)"
   ]
  },
  {
   "cell_type": "code",
   "execution_count": null,
   "id": "165e1fd0",
   "metadata": {},
   "outputs": [],
   "source": []
  }
 ],
 "metadata": {
  "kernelspec": {
   "display_name": "datascienceenv",
   "language": "python",
   "name": "datascienceenv"
  },
  "language_info": {
   "codemirror_mode": {
    "name": "ipython",
    "version": 3
   },
   "file_extension": ".py",
   "mimetype": "text/x-python",
   "name": "python",
   "nbconvert_exporter": "python",
   "pygments_lexer": "ipython3",
   "version": "3.9.7"
  }
 },
 "nbformat": 4,
 "nbformat_minor": 5
}
