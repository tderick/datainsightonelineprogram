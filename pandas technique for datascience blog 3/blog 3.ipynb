{
 "cells": [
  {
   "cell_type": "code",
   "execution_count": 2,
   "id": "83f18640",
   "metadata": {},
   "outputs": [],
   "source": [
    "import pandas as pd\n",
    "\n",
    "df_matches = pd.read_csv('Africa Cup of Nations Matches.csv')\n",
    "df_players = pd.read_csv('Africa Cup of Nations Players.csv')\n",
    "df_teams_statistics = pd.read_csv('Participated Teams General Statistics.csv')\n",
    "df_generals_statistics = pd.read_csv('Tournaments General Statistics.csv')"
   ]
  },
  {
   "cell_type": "code",
   "execution_count": 2,
   "id": "e299185b",
   "metadata": {},
   "outputs": [
    {
     "data": {
      "text/html": [
       "<div>\n",
       "<style scoped>\n",
       "    .dataframe tbody tr th:only-of-type {\n",
       "        vertical-align: middle;\n",
       "    }\n",
       "\n",
       "    .dataframe tbody tr th {\n",
       "        vertical-align: top;\n",
       "    }\n",
       "\n",
       "    .dataframe thead th {\n",
       "        text-align: right;\n",
       "    }\n",
       "</style>\n",
       "<table border=\"1\" class=\"dataframe\">\n",
       "  <thead>\n",
       "    <tr style=\"text-align: right;\">\n",
       "      <th></th>\n",
       "      <th>Year</th>\n",
       "      <th>ShirtNumber</th>\n",
       "      <th>PlayerPosition</th>\n",
       "      <th>PlayerName</th>\n",
       "      <th>DateofBirth(age)</th>\n",
       "      <th>Caps</th>\n",
       "      <th>Goals</th>\n",
       "      <th>Club</th>\n",
       "      <th>Country</th>\n",
       "    </tr>\n",
       "  </thead>\n",
       "  <tbody>\n",
       "    <tr>\n",
       "      <th>0</th>\n",
       "      <td>1957</td>\n",
       "      <td>NaN</td>\n",
       "      <td>GK</td>\n",
       "      <td>Ali Bakr</td>\n",
       "      <td>NaN</td>\n",
       "      <td>NaN</td>\n",
       "      <td>NaN</td>\n",
       "      <td>Zamalek</td>\n",
       "      <td>Egypt</td>\n",
       "    </tr>\n",
       "    <tr>\n",
       "      <th>1</th>\n",
       "      <td>1957</td>\n",
       "      <td>NaN</td>\n",
       "      <td>GK</td>\n",
       "      <td>Paraskos \"Brascos\" Trimeritis</td>\n",
       "      <td>NaN</td>\n",
       "      <td>NaN</td>\n",
       "      <td>NaN</td>\n",
       "      <td>El-Qanah</td>\n",
       "      <td>Egypt</td>\n",
       "    </tr>\n",
       "    <tr>\n",
       "      <th>2</th>\n",
       "      <td>1957</td>\n",
       "      <td>NaN</td>\n",
       "      <td>GK</td>\n",
       "      <td>Abdel-Galil Hameida</td>\n",
       "      <td>NaN</td>\n",
       "      <td>NaN</td>\n",
       "      <td>NaN</td>\n",
       "      <td>Al-Ahly</td>\n",
       "      <td>Egypt</td>\n",
       "    </tr>\n",
       "  </tbody>\n",
       "</table>\n",
       "</div>"
      ],
      "text/plain": [
       "   Year ShirtNumber PlayerPosition                     PlayerName  \\\n",
       "0  1957         NaN             GK                       Ali Bakr   \n",
       "1  1957         NaN             GK  Paraskos \"Brascos\" Trimeritis   \n",
       "2  1957         NaN             GK            Abdel-Galil Hameida   \n",
       "\n",
       "  DateofBirth(age) Caps Goals      Club Country  \n",
       "0              NaN  NaN   NaN   Zamalek   Egypt  \n",
       "1              NaN  NaN   NaN  El-Qanah   Egypt  \n",
       "2              NaN  NaN   NaN   Al-Ahly   Egypt  "
      ]
     },
     "metadata": {},
     "output_type": "display_data"
    }
   ],
   "source": [
    "# display(df_matches.head(3))\n",
    "display(df_players.head(3))\n",
    "# display(df_teams_statistics.head(3))\n",
    "# display(df_generals_statistics.head(3))"
   ]
  },
  {
   "cell_type": "markdown",
   "id": "1e06f542",
   "metadata": {},
   "source": [
    "# DataFrame.duplicated()"
   ]
  },
  {
   "cell_type": "code",
   "execution_count": 28,
   "id": "9baf90b4",
   "metadata": {},
   "outputs": [
    {
     "data": {
      "text/plain": [
       "712    False\n",
       "713    False\n",
       "714     True\n",
       "715    False\n",
       "716    False\n",
       "717    False\n",
       "718     True\n",
       "719    False\n",
       "720    False\n",
       "dtype: bool"
      ]
     },
     "execution_count": 28,
     "metadata": {},
     "output_type": "execute_result"
    }
   ],
   "source": [
    "\n",
    "# df_players[df_players.duplicated(keep='first')].count()\n",
    "df_players.duplicated()[712:721]"
   ]
  },
  {
   "cell_type": "code",
   "execution_count": 34,
   "id": "6fcf6088",
   "metadata": {},
   "outputs": [
    {
     "data": {
      "text/html": [
       "<div>\n",
       "<style scoped>\n",
       "    .dataframe tbody tr th:only-of-type {\n",
       "        vertical-align: middle;\n",
       "    }\n",
       "\n",
       "    .dataframe tbody tr th {\n",
       "        vertical-align: top;\n",
       "    }\n",
       "\n",
       "    .dataframe thead th {\n",
       "        text-align: right;\n",
       "    }\n",
       "</style>\n",
       "<table border=\"1\" class=\"dataframe\">\n",
       "  <thead>\n",
       "    <tr style=\"text-align: right;\">\n",
       "      <th></th>\n",
       "      <th>Year</th>\n",
       "      <th>ShirtNumber</th>\n",
       "      <th>PlayerPosition</th>\n",
       "      <th>PlayerName</th>\n",
       "      <th>DateofBirth(age)</th>\n",
       "      <th>Caps</th>\n",
       "      <th>Goals</th>\n",
       "      <th>Club</th>\n",
       "      <th>Country</th>\n",
       "    </tr>\n",
       "  </thead>\n",
       "  <tbody>\n",
       "    <tr>\n",
       "      <th>160</th>\n",
       "      <td>1962</td>\n",
       "      <td>NaN</td>\n",
       "      <td>NaN</td>\n",
       "      <td>Francis Atema</td>\n",
       "      <td>NaN</td>\n",
       "      <td>NaN</td>\n",
       "      <td>NaN</td>\n",
       "      <td>NaN</td>\n",
       "      <td>Uganda</td>\n",
       "    </tr>\n",
       "    <tr>\n",
       "      <th>676</th>\n",
       "      <td>1972</td>\n",
       "      <td>NaN</td>\n",
       "      <td>NaN</td>\n",
       "      <td>NaN</td>\n",
       "      <td>(1954-01-30)30 January 1954 (aged 18)</td>\n",
       "      <td>NaN</td>\n",
       "      <td>NaN</td>\n",
       "      <td>NaN</td>\n",
       "      <td>Cameroon</td>\n",
       "    </tr>\n",
       "    <tr>\n",
       "      <th>682</th>\n",
       "      <td>1972</td>\n",
       "      <td>NaN</td>\n",
       "      <td>NaN</td>\n",
       "      <td>NaN</td>\n",
       "      <td>(1946-06-12)12 June 1946 (aged 25)</td>\n",
       "      <td>NaN</td>\n",
       "      <td>NaN</td>\n",
       "      <td>NaN</td>\n",
       "      <td>Cameroon</td>\n",
       "    </tr>\n",
       "    <tr>\n",
       "      <th>706</th>\n",
       "      <td>1972</td>\n",
       "      <td>NaN</td>\n",
       "      <td>NaN</td>\n",
       "      <td>NaN</td>\n",
       "      <td>NaN</td>\n",
       "      <td>NaN</td>\n",
       "      <td>NaN</td>\n",
       "      <td>NaN</td>\n",
       "      <td>Mali</td>\n",
       "    </tr>\n",
       "    <tr>\n",
       "      <th>714</th>\n",
       "      <td>1972</td>\n",
       "      <td>NaN</td>\n",
       "      <td>NaN</td>\n",
       "      <td>NaN</td>\n",
       "      <td>NaN</td>\n",
       "      <td>NaN</td>\n",
       "      <td>NaN</td>\n",
       "      <td>NaN</td>\n",
       "      <td>Mali</td>\n",
       "    </tr>\n",
       "  </tbody>\n",
       "</table>\n",
       "</div>"
      ],
      "text/plain": [
       "     Year ShirtNumber PlayerPosition     PlayerName  \\\n",
       "160  1962         NaN            NaN  Francis Atema   \n",
       "676  1972         NaN            NaN            NaN   \n",
       "682  1972         NaN            NaN            NaN   \n",
       "706  1972         NaN            NaN            NaN   \n",
       "714  1972         NaN            NaN            NaN   \n",
       "\n",
       "                           DateofBirth(age) Caps Goals Club   Country  \n",
       "160                                     NaN  NaN   NaN  NaN    Uganda  \n",
       "676   (1954-01-30)30 January 1954 (aged 18)  NaN   NaN  NaN  Cameroon  \n",
       "682      (1946-06-12)12 June 1946 (aged 25)  NaN   NaN  NaN  Cameroon  \n",
       "706                                     NaN  NaN   NaN  NaN      Mali  \n",
       "714                                     NaN  NaN   NaN  NaN      Mali  "
      ]
     },
     "execution_count": 34,
     "metadata": {},
     "output_type": "execute_result"
    }
   ],
   "source": [
    "result = df_players.duplicated(subset=['Year','PlayerName'])\n",
    "df_players[result].head()"
   ]
  },
  {
   "cell_type": "code",
   "execution_count": 39,
   "id": "9d2ea515",
   "metadata": {},
   "outputs": [
    {
     "data": {
      "text/html": [
       "<div>\n",
       "<style scoped>\n",
       "    .dataframe tbody tr th:only-of-type {\n",
       "        vertical-align: middle;\n",
       "    }\n",
       "\n",
       "    .dataframe tbody tr th {\n",
       "        vertical-align: top;\n",
       "    }\n",
       "\n",
       "    .dataframe thead th {\n",
       "        text-align: right;\n",
       "    }\n",
       "</style>\n",
       "<table border=\"1\" class=\"dataframe\">\n",
       "  <thead>\n",
       "    <tr style=\"text-align: right;\">\n",
       "      <th></th>\n",
       "      <th>Year</th>\n",
       "      <th>ShirtNumber</th>\n",
       "      <th>PlayerPosition</th>\n",
       "      <th>PlayerName</th>\n",
       "      <th>DateofBirth(age)</th>\n",
       "      <th>Caps</th>\n",
       "      <th>Goals</th>\n",
       "      <th>Club</th>\n",
       "      <th>Country</th>\n",
       "    </tr>\n",
       "  </thead>\n",
       "  <tbody>\n",
       "    <tr>\n",
       "      <th>0</th>\n",
       "      <td>1957</td>\n",
       "      <td>NaN</td>\n",
       "      <td>GK</td>\n",
       "      <td>Ali Bakr</td>\n",
       "      <td>NaN</td>\n",
       "      <td>NaN</td>\n",
       "      <td>NaN</td>\n",
       "      <td>Zamalek</td>\n",
       "      <td>Egypt</td>\n",
       "    </tr>\n",
       "    <tr>\n",
       "      <th>1</th>\n",
       "      <td>1957</td>\n",
       "      <td>NaN</td>\n",
       "      <td>GK</td>\n",
       "      <td>Paraskos \"Brascos\" Trimeritis</td>\n",
       "      <td>NaN</td>\n",
       "      <td>NaN</td>\n",
       "      <td>NaN</td>\n",
       "      <td>El-Qanah</td>\n",
       "      <td>Egypt</td>\n",
       "    </tr>\n",
       "    <tr>\n",
       "      <th>2</th>\n",
       "      <td>1957</td>\n",
       "      <td>NaN</td>\n",
       "      <td>GK</td>\n",
       "      <td>Abdel-Galil Hameida</td>\n",
       "      <td>NaN</td>\n",
       "      <td>NaN</td>\n",
       "      <td>NaN</td>\n",
       "      <td>Al-Ahly</td>\n",
       "      <td>Egypt</td>\n",
       "    </tr>\n",
       "    <tr>\n",
       "      <th>3</th>\n",
       "      <td>1957</td>\n",
       "      <td>NaN</td>\n",
       "      <td>DF</td>\n",
       "      <td>Mosaad Daoud</td>\n",
       "      <td>NaN</td>\n",
       "      <td>NaN</td>\n",
       "      <td>NaN</td>\n",
       "      <td>El-Olympi</td>\n",
       "      <td>Egypt</td>\n",
       "    </tr>\n",
       "    <tr>\n",
       "      <th>4</th>\n",
       "      <td>1957</td>\n",
       "      <td>NaN</td>\n",
       "      <td>DF</td>\n",
       "      <td>El-Sayed El-Arabi</td>\n",
       "      <td>NaN</td>\n",
       "      <td>NaN</td>\n",
       "      <td>NaN</td>\n",
       "      <td>Teram</td>\n",
       "      <td>Egypt</td>\n",
       "    </tr>\n",
       "  </tbody>\n",
       "</table>\n",
       "</div>"
      ],
      "text/plain": [
       "   Year ShirtNumber PlayerPosition                     PlayerName  \\\n",
       "0  1957         NaN             GK                       Ali Bakr   \n",
       "1  1957         NaN             GK  Paraskos \"Brascos\" Trimeritis   \n",
       "2  1957         NaN             GK            Abdel-Galil Hameida   \n",
       "3  1957         NaN             DF                   Mosaad Daoud   \n",
       "4  1957         NaN             DF              El-Sayed El-Arabi   \n",
       "\n",
       "  DateofBirth(age) Caps Goals       Club Country  \n",
       "0              NaN  NaN   NaN    Zamalek   Egypt  \n",
       "1              NaN  NaN   NaN   El-Qanah   Egypt  \n",
       "2              NaN  NaN   NaN    Al-Ahly   Egypt  \n",
       "3              NaN  NaN   NaN  El-Olympi   Egypt  \n",
       "4              NaN  NaN   NaN      Teram   Egypt  "
      ]
     },
     "execution_count": 39,
     "metadata": {},
     "output_type": "execute_result"
    }
   ],
   "source": [
    "result = df_players.duplicated(subset=['Year','PlayerName'])\n",
    "df_players[~result].head()"
   ]
  },
  {
   "cell_type": "code",
   "execution_count": 41,
   "id": "0051bdf9",
   "metadata": {},
   "outputs": [
    {
     "data": {
      "text/html": [
       "<div>\n",
       "<style scoped>\n",
       "    .dataframe tbody tr th:only-of-type {\n",
       "        vertical-align: middle;\n",
       "    }\n",
       "\n",
       "    .dataframe tbody tr th {\n",
       "        vertical-align: top;\n",
       "    }\n",
       "\n",
       "    .dataframe thead th {\n",
       "        text-align: right;\n",
       "    }\n",
       "</style>\n",
       "<table border=\"1\" class=\"dataframe\">\n",
       "  <thead>\n",
       "    <tr style=\"text-align: right;\">\n",
       "      <th></th>\n",
       "      <th>Year</th>\n",
       "      <th>ShirtNumber</th>\n",
       "      <th>PlayerPosition</th>\n",
       "      <th>PlayerName</th>\n",
       "      <th>DateofBirth(age)</th>\n",
       "      <th>Caps</th>\n",
       "      <th>Goals</th>\n",
       "      <th>Club</th>\n",
       "      <th>Country</th>\n",
       "    </tr>\n",
       "  </thead>\n",
       "  <tbody>\n",
       "    <tr>\n",
       "      <th>706</th>\n",
       "      <td>1972</td>\n",
       "      <td>NaN</td>\n",
       "      <td>NaN</td>\n",
       "      <td>NaN</td>\n",
       "      <td>NaN</td>\n",
       "      <td>NaN</td>\n",
       "      <td>NaN</td>\n",
       "      <td>NaN</td>\n",
       "      <td>Mali</td>\n",
       "    </tr>\n",
       "    <tr>\n",
       "      <th>714</th>\n",
       "      <td>1972</td>\n",
       "      <td>NaN</td>\n",
       "      <td>NaN</td>\n",
       "      <td>NaN</td>\n",
       "      <td>NaN</td>\n",
       "      <td>NaN</td>\n",
       "      <td>NaN</td>\n",
       "      <td>NaN</td>\n",
       "      <td>Mali</td>\n",
       "    </tr>\n",
       "    <tr>\n",
       "      <th>718</th>\n",
       "      <td>1972</td>\n",
       "      <td>NaN</td>\n",
       "      <td>NaN</td>\n",
       "      <td>NaN</td>\n",
       "      <td>NaN</td>\n",
       "      <td>NaN</td>\n",
       "      <td>NaN</td>\n",
       "      <td>NaN</td>\n",
       "      <td>Mali</td>\n",
       "    </tr>\n",
       "    <tr>\n",
       "      <th>729</th>\n",
       "      <td>1972</td>\n",
       "      <td>NaN</td>\n",
       "      <td>NaN</td>\n",
       "      <td>NaN</td>\n",
       "      <td>NaN</td>\n",
       "      <td>NaN</td>\n",
       "      <td>NaN</td>\n",
       "      <td>NaN</td>\n",
       "      <td>Togo</td>\n",
       "    </tr>\n",
       "    <tr>\n",
       "      <th>734</th>\n",
       "      <td>1972</td>\n",
       "      <td>NaN</td>\n",
       "      <td>NaN</td>\n",
       "      <td>NaN</td>\n",
       "      <td>NaN</td>\n",
       "      <td>NaN</td>\n",
       "      <td>NaN</td>\n",
       "      <td>NaN</td>\n",
       "      <td>Togo</td>\n",
       "    </tr>\n",
       "  </tbody>\n",
       "</table>\n",
       "</div>"
      ],
      "text/plain": [
       "     Year ShirtNumber PlayerPosition PlayerName DateofBirth(age) Caps Goals  \\\n",
       "706  1972         NaN            NaN        NaN              NaN  NaN   NaN   \n",
       "714  1972         NaN            NaN        NaN              NaN  NaN   NaN   \n",
       "718  1972         NaN            NaN        NaN              NaN  NaN   NaN   \n",
       "729  1972         NaN            NaN        NaN              NaN  NaN   NaN   \n",
       "734  1972         NaN            NaN        NaN              NaN  NaN   NaN   \n",
       "\n",
       "    Club Country  \n",
       "706  NaN    Mali  \n",
       "714  NaN    Mali  \n",
       "718  NaN    Mali  \n",
       "729  NaN    Togo  \n",
       "734  NaN    Togo  "
      ]
     },
     "execution_count": 41,
     "metadata": {},
     "output_type": "execute_result"
    }
   ],
   "source": [
    "df_players[df_players.duplicated(keep=False)].head()"
   ]
  },
  {
   "cell_type": "markdown",
   "id": "baf43e27",
   "metadata": {},
   "source": [
    "# DataFrame.drop_duplicated()"
   ]
  },
  {
   "cell_type": "code",
   "execution_count": 4,
   "id": "2391ec65",
   "metadata": {},
   "outputs": [
    {
     "data": {
      "text/plain": [
       "'Before drop duplicates===>'"
      ]
     },
     "metadata": {},
     "output_type": "display_data"
    },
    {
     "data": {
      "text/plain": [
       "(7534, 9)"
      ]
     },
     "metadata": {},
     "output_type": "display_data"
    },
    {
     "data": {
      "text/plain": [
       "'After drop duplicates===>'"
      ]
     },
     "metadata": {},
     "output_type": "display_data"
    },
    {
     "data": {
      "text/plain": [
       "(7514, 9)"
      ]
     },
     "metadata": {},
     "output_type": "display_data"
    }
   ],
   "source": [
    "display('Before drop duplicates===>',df_players.shape)\n",
    "display('After drop duplicates===>',df_players.drop_duplicates().shape)"
   ]
  },
  {
   "cell_type": "code",
   "execution_count": 9,
   "id": "9349e828",
   "metadata": {
    "scrolled": true
   },
   "outputs": [
    {
     "data": {
      "text/plain": [
       "(7489, 9)"
      ]
     },
     "execution_count": 9,
     "metadata": {},
     "output_type": "execute_result"
    }
   ],
   "source": [
    "df_players.drop_duplicates(subset=['Year','PlayerName']).shape"
   ]
  },
  {
   "cell_type": "code",
   "execution_count": 13,
   "id": "172318f0",
   "metadata": {},
   "outputs": [
    {
     "data": {
      "text/plain": [
       "pandas.core.frame.DataFrame"
      ]
     },
     "metadata": {},
     "output_type": "display_data"
    },
    {
     "data": {
      "text/plain": [
       "NoneType"
      ]
     },
     "metadata": {},
     "output_type": "display_data"
    }
   ],
   "source": [
    "display(type(df_players.drop_duplicates(subset=['Year','PlayerName'])))\n",
    "display(type(df_players.drop_duplicates(subset=['Year','PlayerName'], inplace=True)))"
   ]
  },
  {
   "cell_type": "code",
   "execution_count": null,
   "id": "f556cac7",
   "metadata": {},
   "outputs": [],
   "source": []
  }
 ],
 "metadata": {
  "kernelspec": {
   "display_name": "datascienceenv",
   "language": "python",
   "name": "datascienceenv"
  },
  "language_info": {
   "codemirror_mode": {
    "name": "ipython",
    "version": 3
   },
   "file_extension": ".py",
   "mimetype": "text/x-python",
   "name": "python",
   "nbconvert_exporter": "python",
   "pygments_lexer": "ipython3",
   "version": "3.9.7"
  }
 },
 "nbformat": 4,
 "nbformat_minor": 5
}
